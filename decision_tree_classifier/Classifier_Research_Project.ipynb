{
 "cells": [
  {
   "cell_type": "code",
   "execution_count": 4,
   "metadata": {
    "scrolled": true
   },
   "outputs": [
    {
     "data": {
      "text/html": [
       "<div>\n",
       "<style>\n",
       "    .dataframe thead tr:only-child th {\n",
       "        text-align: right;\n",
       "    }\n",
       "\n",
       "    .dataframe thead th {\n",
       "        text-align: left;\n",
       "    }\n",
       "\n",
       "    .dataframe tbody tr th {\n",
       "        vertical-align: top;\n",
       "    }\n",
       "</style>\n",
       "<table border=\"1\" class=\"dataframe\">\n",
       "  <thead>\n",
       "    <tr style=\"text-align: right;\">\n",
       "      <th></th>\n",
       "      <th>x_min</th>\n",
       "      <th>x_max</th>\n",
       "      <th>x_mean</th>\n",
       "      <th>x_sd</th>\n",
       "      <th>y_min</th>\n",
       "      <th>y_max</th>\n",
       "      <th>y_mean</th>\n",
       "      <th>y_sd</th>\n",
       "      <th>z_min</th>\n",
       "      <th>z_max</th>\n",
       "      <th>z_mean</th>\n",
       "      <th>z_sd</th>\n",
       "      <th>disease</th>\n",
       "    </tr>\n",
       "  </thead>\n",
       "  <tbody>\n",
       "    <tr>\n",
       "      <th>0</th>\n",
       "      <td>79</td>\n",
       "      <td>61</td>\n",
       "      <td>93</td>\n",
       "      <td>67</td>\n",
       "      <td>54</td>\n",
       "      <td>2</td>\n",
       "      <td>70</td>\n",
       "      <td>56</td>\n",
       "      <td>39</td>\n",
       "      <td>35</td>\n",
       "      <td>44</td>\n",
       "      <td>29</td>\n",
       "      <td>False</td>\n",
       "    </tr>\n",
       "    <tr>\n",
       "      <th>1</th>\n",
       "      <td>96</td>\n",
       "      <td>31</td>\n",
       "      <td>2</td>\n",
       "      <td>59</td>\n",
       "      <td>5</td>\n",
       "      <td>2</td>\n",
       "      <td>95</td>\n",
       "      <td>17</td>\n",
       "      <td>86</td>\n",
       "      <td>5</td>\n",
       "      <td>21</td>\n",
       "      <td>100</td>\n",
       "      <td>True</td>\n",
       "    </tr>\n",
       "    <tr>\n",
       "      <th>2</th>\n",
       "      <td>70</td>\n",
       "      <td>99</td>\n",
       "      <td>92</td>\n",
       "      <td>28</td>\n",
       "      <td>67</td>\n",
       "      <td>55</td>\n",
       "      <td>30</td>\n",
       "      <td>69</td>\n",
       "      <td>50</td>\n",
       "      <td>50</td>\n",
       "      <td>58</td>\n",
       "      <td>83</td>\n",
       "      <td>False</td>\n",
       "    </tr>\n",
       "    <tr>\n",
       "      <th>3</th>\n",
       "      <td>96</td>\n",
       "      <td>22</td>\n",
       "      <td>36</td>\n",
       "      <td>9</td>\n",
       "      <td>75</td>\n",
       "      <td>71</td>\n",
       "      <td>25</td>\n",
       "      <td>79</td>\n",
       "      <td>57</td>\n",
       "      <td>88</td>\n",
       "      <td>56</td>\n",
       "      <td>40</td>\n",
       "      <td>False</td>\n",
       "    </tr>\n",
       "    <tr>\n",
       "      <th>4</th>\n",
       "      <td>75</td>\n",
       "      <td>66</td>\n",
       "      <td>70</td>\n",
       "      <td>11</td>\n",
       "      <td>98</td>\n",
       "      <td>21</td>\n",
       "      <td>77</td>\n",
       "      <td>83</td>\n",
       "      <td>16</td>\n",
       "      <td>14</td>\n",
       "      <td>86</td>\n",
       "      <td>13</td>\n",
       "      <td>True</td>\n",
       "    </tr>\n",
       "  </tbody>\n",
       "</table>\n",
       "</div>"
      ],
      "text/plain": [
       "   x_min  x_max  x_mean  x_sd  y_min  y_max  y_mean  y_sd  z_min  z_max  \\\n",
       "0     79     61      93    67     54      2      70    56     39     35   \n",
       "1     96     31       2    59      5      2      95    17     86      5   \n",
       "2     70     99      92    28     67     55      30    69     50     50   \n",
       "3     96     22      36     9     75     71      25    79     57     88   \n",
       "4     75     66      70    11     98     21      77    83     16     14   \n",
       "\n",
       "   z_mean  z_sd  disease  \n",
       "0      44    29    False  \n",
       "1      21   100     True  \n",
       "2      58    83    False  \n",
       "3      56    40    False  \n",
       "4      86    13     True  "
      ]
     },
     "metadata": {},
     "output_type": "display_data"
    }
   ],
   "source": [
    "import numpy as np\n",
    "import pandas as pd\n",
    "from IPython.display import display # Allows the use of display() for DataFrames\n",
    "\n",
    "import visuals as vs\n",
    "%matplotlib inline\n",
    "\n",
    "# Load the dataset\n",
    "in_file = 'mock_data.csv'\n",
    "full_data = pd.read_csv(in_file)\n",
    "\n",
    "# Printing the first few entries of the dataset\n",
    "display(full_data.head())\n",
    "\n"
   ]
  },
  {
   "cell_type": "code",
   "execution_count": 18,
   "metadata": {},
   "outputs": [
    {
     "data": {
      "text/html": [
       "<div>\n",
       "<style>\n",
       "    .dataframe thead tr:only-child th {\n",
       "        text-align: right;\n",
       "    }\n",
       "\n",
       "    .dataframe thead th {\n",
       "        text-align: left;\n",
       "    }\n",
       "\n",
       "    .dataframe tbody tr th {\n",
       "        vertical-align: top;\n",
       "    }\n",
       "</style>\n",
       "<table border=\"1\" class=\"dataframe\">\n",
       "  <thead>\n",
       "    <tr style=\"text-align: right;\">\n",
       "      <th></th>\n",
       "      <th>x_min</th>\n",
       "      <th>x_max</th>\n",
       "      <th>x_mean</th>\n",
       "      <th>x_sd</th>\n",
       "      <th>y_min</th>\n",
       "      <th>y_max</th>\n",
       "      <th>y_mean</th>\n",
       "      <th>y_sd</th>\n",
       "      <th>z_min</th>\n",
       "      <th>z_max</th>\n",
       "      <th>z_mean</th>\n",
       "      <th>z_sd</th>\n",
       "    </tr>\n",
       "  </thead>\n",
       "  <tbody>\n",
       "    <tr>\n",
       "      <th>0</th>\n",
       "      <td>79</td>\n",
       "      <td>61</td>\n",
       "      <td>93</td>\n",
       "      <td>67</td>\n",
       "      <td>54</td>\n",
       "      <td>2</td>\n",
       "      <td>70</td>\n",
       "      <td>56</td>\n",
       "      <td>39</td>\n",
       "      <td>35</td>\n",
       "      <td>44</td>\n",
       "      <td>29</td>\n",
       "    </tr>\n",
       "    <tr>\n",
       "      <th>1</th>\n",
       "      <td>96</td>\n",
       "      <td>31</td>\n",
       "      <td>2</td>\n",
       "      <td>59</td>\n",
       "      <td>5</td>\n",
       "      <td>2</td>\n",
       "      <td>95</td>\n",
       "      <td>17</td>\n",
       "      <td>86</td>\n",
       "      <td>5</td>\n",
       "      <td>21</td>\n",
       "      <td>100</td>\n",
       "    </tr>\n",
       "    <tr>\n",
       "      <th>2</th>\n",
       "      <td>70</td>\n",
       "      <td>99</td>\n",
       "      <td>92</td>\n",
       "      <td>28</td>\n",
       "      <td>67</td>\n",
       "      <td>55</td>\n",
       "      <td>30</td>\n",
       "      <td>69</td>\n",
       "      <td>50</td>\n",
       "      <td>50</td>\n",
       "      <td>58</td>\n",
       "      <td>83</td>\n",
       "    </tr>\n",
       "    <tr>\n",
       "      <th>3</th>\n",
       "      <td>96</td>\n",
       "      <td>22</td>\n",
       "      <td>36</td>\n",
       "      <td>9</td>\n",
       "      <td>75</td>\n",
       "      <td>71</td>\n",
       "      <td>25</td>\n",
       "      <td>79</td>\n",
       "      <td>57</td>\n",
       "      <td>88</td>\n",
       "      <td>56</td>\n",
       "      <td>40</td>\n",
       "    </tr>\n",
       "    <tr>\n",
       "      <th>4</th>\n",
       "      <td>75</td>\n",
       "      <td>66</td>\n",
       "      <td>70</td>\n",
       "      <td>11</td>\n",
       "      <td>98</td>\n",
       "      <td>21</td>\n",
       "      <td>77</td>\n",
       "      <td>83</td>\n",
       "      <td>16</td>\n",
       "      <td>14</td>\n",
       "      <td>86</td>\n",
       "      <td>13</td>\n",
       "    </tr>\n",
       "  </tbody>\n",
       "</table>\n",
       "</div>"
      ],
      "text/plain": [
       "   x_min  x_max  x_mean  x_sd  y_min  y_max  y_mean  y_sd  z_min  z_max  \\\n",
       "0     79     61      93    67     54      2      70    56     39     35   \n",
       "1     96     31       2    59      5      2      95    17     86      5   \n",
       "2     70     99      92    28     67     55      30    69     50     50   \n",
       "3     96     22      36     9     75     71      25    79     57     88   \n",
       "4     75     66      70    11     98     21      77    83     16     14   \n",
       "\n",
       "   z_mean  z_sd  \n",
       "0      44    29  \n",
       "1      21   100  \n",
       "2      58    83  \n",
       "3      56    40  \n",
       "4      86    13  "
      ]
     },
     "metadata": {},
     "output_type": "display_data"
    }
   ],
   "source": [
    "# Storing the 'disease'(output) feature in a new variable and removing it from the dataset\n",
    "\n",
    "outcomes = full_data['disease']\n",
    "data = full_data.drop('disease', axis = 1)\n",
    "\n",
    "# The new dataset with 'disease' removed\n",
    "display(data.head())"
   ]
  },
  {
   "cell_type": "code",
   "execution_count": 6,
   "metadata": {
    "collapsed": true
   },
   "outputs": [],
   "source": [
    "from sklearn.cross_validation import train_test_split\n",
    "\n",
    "features_train, features_test, output_train, output_test = train_test_split(data, outcomes, test_size=0.2, random_state=42)"
   ]
  },
  {
   "cell_type": "code",
   "execution_count": 13,
   "metadata": {},
   "outputs": [],
   "source": [
    "from sklearn import tree\n",
    "def studentClassifier(features_train, output_train):\n",
    "    clf = tree.DecisionTreeClassifier()\n",
    "    clf.fit(features_train, output_train)\n",
    "    \n",
    "    return clf"
   ]
  },
  {
   "cell_type": "code",
   "execution_count": 14,
   "metadata": {
    "collapsed": true
   },
   "outputs": [],
   "source": [
    "classifier = studentClassifier(features_train, output_train)"
   ]
  },
  {
   "cell_type": "code",
   "execution_count": 16,
   "metadata": {},
   "outputs": [
    {
     "name": "stderr",
     "output_type": "stream",
     "text": [
      "/Users/madhurimotoori/Documents/Courses/MLND/mlnd/lib/python2.7/site-packages/sklearn/utils/validation.py:386: DeprecationWarning: Passing 1d arrays as data is deprecated in 0.17 and willraise ValueError in 0.19. Reshape your data either using X.reshape(-1, 1) if your data has a single feature or X.reshape(1, -1) if it contains a single sample.\n",
      "  DeprecationWarning)\n"
     ]
    },
    {
     "data": {
      "text/plain": [
       "array([False], dtype=bool)"
      ]
     },
     "execution_count": 16,
     "metadata": {},
     "output_type": "execute_result"
    }
   ],
   "source": [
    "# Testing first example \n",
    "example = [79, 61, 93, 67, 54, 2, 70, 56,39, 35, 44, 29]\n",
    "classifier.predict(example)"
   ]
  },
  {
   "cell_type": "code",
   "execution_count": 19,
   "metadata": {
    "collapsed": true
   },
   "outputs": [],
   "source": [
    "test_outcomes = classifier.predict(features_test)"
   ]
  },
  {
   "cell_type": "code",
   "execution_count": 26,
   "metadata": {
    "collapsed": true
   },
   "outputs": [],
   "source": [
    "def accuracyScore(test_outcomes, output_test):\n",
    "    if len(test_outcomes) == len(output_test): \n",
    "        return \"Predictions have an accuracy of {:.2f}%.\".format((test_outcomes == output_test).mean()*100)\n",
    "    else:\n",
    "        return \"Number of predictions does not match number of outcomes!\""
   ]
  },
  {
   "cell_type": "code",
   "execution_count": 27,
   "metadata": {},
   "outputs": [
    {
     "name": "stdout",
     "output_type": "stream",
     "text": [
      "Predictions have an accuracy of 60.00%.\n"
     ]
    }
   ],
   "source": [
    "print accuracyScore(test_outcomes, output_test)"
   ]
  },
  {
   "cell_type": "code",
   "execution_count": null,
   "metadata": {
    "collapsed": true
   },
   "outputs": [],
   "source": []
  },
  {
   "cell_type": "code",
   "execution_count": null,
   "metadata": {
    "collapsed": true
   },
   "outputs": [],
   "source": []
  }
 ],
 "metadata": {
  "kernelspec": {
   "display_name": "Python 2",
   "language": "python",
   "name": "python2"
  },
  "language_info": {
   "codemirror_mode": {
    "name": "ipython",
    "version": 2
   },
   "file_extension": ".py",
   "mimetype": "text/x-python",
   "name": "python",
   "nbconvert_exporter": "python",
   "pygments_lexer": "ipython2",
   "version": "2.7.10"
  }
 },
 "nbformat": 4,
 "nbformat_minor": 1
}
